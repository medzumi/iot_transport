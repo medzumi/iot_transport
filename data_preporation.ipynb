{
  "nbformat": 4,
  "nbformat_minor": 0,
  "metadata": {
    "colab": {
      "name": "Копия Копия Untitled3.ipynb",
      "version": "0.3.2",
      "provenance": [],
      "collapsed_sections": [],
      "include_colab_link": true
    },
    "kernelspec": {
      "name": "python3",
      "display_name": "Python 3"
    }
  },
  "cells": [
    {
      "cell_type": "markdown",
      "metadata": {
        "id": "view-in-github",
        "colab_type": "text"
      },
      "source": [
        "<a href=\"https://colab.research.google.com/github/medzumi/iot_transport/blob/master/data_preporation.ipynb\" target=\"_parent\"><img src=\"https://colab.research.google.com/assets/colab-badge.svg\" alt=\"Open In Colab\"/></a>"
      ]
    },
    {
      "metadata": {
        "id": "oEwXjyf5L1li",
        "colab_type": "code",
        "colab": {
          "base_uri": "https://localhost:8080/",
          "height": 425
        },
        "outputId": "c7dd700a-a20a-4b86-feee-018fbd4124a0"
      },
      "cell_type": "code",
      "source": [
        "import numpy as np\n",
        "from numpy import linalg as ln\n",
        "import pylab as pl\n",
        "import pandas as pd\n",
        "from copy import deepcopy\n",
        "import sys\n",
        "from matplotlib import pyplot as plt\n",
        "plt.rcParams['figure.figsize'] = (16, 9)\n",
        "plt.style.use('ggplot')\n",
        "%matplotlib inline\n",
        "\n",
        "#r* - константа, которую можно варировать для лучшей таксономии\n",
        "r_const = 100 \n",
        "\n",
        "\n",
        "#функция минимального расстояния объекта до множества\n",
        "def distance(a, B):\n",
        "    maxi = ln.norm(a - B[0])\n",
        "    for i in B:\n",
        "        dist = ln.norm(a - i)\n",
        "        if dist < maxi :\n",
        "            maxi = dist\n",
        "    return maxi\n",
        "\n",
        "#функция конкурентного сходства между объектом и множеством A\n",
        "def F(z, A):\n",
        "    dist = distance(z, A)\n",
        "    return (r_const - dist)/(r_const + dist)\n",
        "\n",
        "\n",
        "#функция конкурентного сходства между множеством столпов и множеством A\n",
        "def FF(X, A):\n",
        "    res = 0\n",
        "    S_a = [A[i] for i in X]\n",
        "    for i in range(len(A)):\n",
        "        if (not i in X):\n",
        "            res += F(A[i], S_a)\n",
        "    res /= len(A)\n",
        "    return res\n",
        "\n",
        "\n",
        "def Fris_Tax(A):\n",
        "    maximum = -1\n",
        "    stolps = []\n",
        "    stolp = 0\n",
        "    last_FF=0\n",
        "    const = len(A)\n",
        "    for i in range(len(A)):\n",
        "        var = FF([i], A)\n",
        "        if (var > maximum):\n",
        "            maximum = var\n",
        "            stolp = i\n",
        "        sys.stdout.write(\"\\r Stolp {}; Percent = {}; FF = {}\".format(0, i/const, maximum))\n",
        "    stolps.append(stolp)\n",
        "    last=-1\n",
        "    current = maximum\n",
        "    \n",
        "    #for h in range(5):\n",
        "    while (current>last):\n",
        "        stolp = 0\n",
        "        last = current\n",
        "        maximum = -1\n",
        "        for i in range(len(A)):\n",
        "            if(not i in stolps):\n",
        "                var = FF(stolps + [i], A)\n",
        "                if(var > current):\n",
        "                    maximum = var\n",
        "                    stolp = i\n",
        "            sys.stdout.write(\"\\r Stolp {}; Percent = {}; FF = {}\".format(len(stolps), i/const, maximum))\n",
        "        current = maximum     \n",
        "        stolps.append(stolp)\n",
        "    return stolps  \n",
        "  \n",
        "data = pd.read_csv(\"dataV3P2.csv\", sep=',', encoding='utf-8') \n",
        "data['v'] = data['v']*0.1\n",
        "new_data = pd.DataFrame({'x':[], 'y':[], 'v':[]})\n",
        "const = len(data['obj_id'].value_counts().index)\n",
        "j = 0\n",
        "for i in data['obj_id'].value_counts().index:\n",
        "  j +=1\n",
        "  data_set_time = np.array(data[['x', 'y', 'v']][data['obj_id']==i])\n",
        "  stolps = np.array([data_set_time[i] for i in Fris_Tax(data_set_time)])\n",
        "  new_data = new_data.append(pd.DataFrame({'x':stolps[:,0], 'y':stolps[:,1], 'v':stolps[:,2]}), ignore_index = True)\n",
        "  print(\"Percent total = \", j/const)\n",
        "new_data.to_csv('clear_dataP2.csv', sep = ',', encoding = 'utf-8', index = False)"
      ],
      "execution_count": 0,
      "outputs": [
        {
          "output_type": "stream",
          "text": [
            " Stolp 7; Percent = 0.993103448275862; FF = -1Percent total =  0.011494252873563218\n",
            " Stolp 7; Percent = 0.993103448275862; FF = -1Percent total =  0.022988505747126436\n",
            " Stolp 7; Percent = 0.993103448275862; FF = -1Percent total =  0.034482758620689655\n",
            " Stolp 7; Percent = 0.993103448275862; FF = -1Percent total =  0.04597701149425287\n",
            " Stolp 7; Percent = 0.993103448275862; FF = -1Percent total =  0.05747126436781609\n",
            " Stolp 7; Percent = 0.993103448275862; FF = -1Percent total =  0.06896551724137931\n",
            " Stolp 7; Percent = 0.993103448275862; FF = -1Percent total =  0.08045977011494253\n",
            " Stolp 7; Percent = 0.993103448275862; FF = -1Percent total =  0.09195402298850575\n",
            " Stolp 7; Percent = 0.993103448275862; FF = -1Percent total =  0.10344827586206896\n",
            " Stolp 7; Percent = 0.993103448275862; FF = -1Percent total =  0.11494252873563218\n",
            " Stolp 7; Percent = 0.993103448275862; FF = -1Percent total =  0.12643678160919541\n",
            " Stolp 7; Percent = 0.993103448275862; FF = -1Percent total =  0.13793103448275862\n",
            " Stolp 7; Percent = 0.993103448275862; FF = -1Percent total =  0.14942528735632185\n",
            " Stolp 7; Percent = 0.993103448275862; FF = -1Percent total =  0.16091954022988506\n",
            " Stolp 7; Percent = 0.993103448275862; FF = -1Percent total =  0.1724137931034483\n",
            " Stolp 7; Percent = 0.993103448275862; FF = -1Percent total =  0.1839080459770115\n",
            " Stolp 7; Percent = 0.993103448275862; FF = -1Percent total =  0.19540229885057472\n",
            " Stolp 7; Percent = 0.993103448275862; FF = -1Percent total =  0.20689655172413793\n",
            " Stolp 7; Percent = 0.993103448275862; FF = -1Percent total =  0.21839080459770116\n",
            " Stolp 7; Percent = 0.993103448275862; FF = -1Percent total =  0.22988505747126436\n",
            " Stolp 7; Percent = 0.993103448275862; FF = -1Percent total =  0.2413793103448276\n",
            " Stolp 7; Percent = 0.993103448275862; FF = -1Percent total =  0.25287356321839083\n",
            " Stolp 7; Percent = 0.993103448275862; FF = -1Percent total =  0.26436781609195403\n",
            " Stolp 5; Percent = 0.9655172413793104; FF = 0.42255090872329876"
          ],
          "name": "stdout"
        }
      ]
    },
    {
      "metadata": {
        "id": "QvOLaDp9MclQ",
        "colab_type": "code",
        "outputId": "0957341f-bb1f-43eb-84d8-c866ee43d538",
        "colab": {
          "base_uri": "https://localhost:8080/",
          "height": 163
        }
      },
      "cell_type": "code",
      "source": [
        "new_data.to_csv('clear_dataP2.csv', sep = ',', encoding = 'utf-8', index = False)"
      ],
      "execution_count": 0,
      "outputs": [
        {
          "output_type": "error",
          "ename": "NameError",
          "evalue": "ignored",
          "traceback": [
            "\u001b[0;31m---------------------------------------------------------------------------\u001b[0m",
            "\u001b[0;31mNameError\u001b[0m                                 Traceback (most recent call last)",
            "\u001b[0;32m<ipython-input-1-3a58ec0baff0>\u001b[0m in \u001b[0;36m<module>\u001b[0;34m()\u001b[0m\n\u001b[0;32m----> 1\u001b[0;31m \u001b[0mnew_data\u001b[0m\u001b[0;34m.\u001b[0m\u001b[0mto_csv\u001b[0m\u001b[0;34m(\u001b[0m\u001b[0;34m'clear_dataP2.csv'\u001b[0m\u001b[0;34m,\u001b[0m \u001b[0msep\u001b[0m \u001b[0;34m=\u001b[0m \u001b[0;34m','\u001b[0m\u001b[0;34m,\u001b[0m \u001b[0mencoding\u001b[0m \u001b[0;34m=\u001b[0m \u001b[0;34m'utf-8'\u001b[0m\u001b[0;34m,\u001b[0m \u001b[0mindex\u001b[0m \u001b[0;34m=\u001b[0m \u001b[0;32mFalse\u001b[0m\u001b[0;34m)\u001b[0m\u001b[0;34m\u001b[0m\u001b[0;34m\u001b[0m\u001b[0m\n\u001b[0m",
            "\u001b[0;31mNameError\u001b[0m: name 'new_data' is not defined"
          ]
        }
      ]
    }
  ]
}